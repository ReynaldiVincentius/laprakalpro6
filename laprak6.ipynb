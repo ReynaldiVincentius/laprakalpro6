{
 "cells": [
  {
   "cell_type": "code",
   "execution_count": 2,
   "metadata": {},
   "outputs": [
    {
     "name": "stdout",
     "output_type": "stream",
     "text": [
      "Bilangan prima terdekat < 6 adalah 5.\n"
     ]
    }
   ],
   "source": [
    "def bilanganPrima(num):\n",
    "    if num < 2:\n",
    "        return False\n",
    "    for i in range(2, int(num**0.5) + 1):\n",
    "        if num % i == 0:\n",
    "            return False\n",
    "    return True\n",
    "def primaTerdekat(n):\n",
    "    if n <= 2:\n",
    "        return None\n",
    "    for i in range(n - 1, 1, -1):\n",
    "        if bilanganPrima(i):\n",
    "            return i\n",
    "n = int(input(\"n: \"))\n",
    "bilangan_prima = primaTerdekat(n)\n",
    "if bilangan_prima:\n",
    "    print(f\"Bilangan prima terdekat < {n} adalah {bilangan_prima}.\")\n",
    "else:\n",
    "    print(f\"Tidak ada bilangan prima yang kurang dari {n}.\")"
   ]
  },
  {
   "cell_type": "code",
   "execution_count": 3,
   "metadata": {},
   "outputs": [
    {
     "name": "stdout",
     "output_type": "stream",
     "text": [
      "40320 8 7 6 5 4 3 2 1 \n",
      "5040 7 6 5 4 3 2 1 \n",
      "720 6 5 4 3 2 1 \n",
      "120 5 4 3 2 1 \n",
      "24 4 3 2 1 \n",
      "6 3 2 1 \n",
      "2 2 1 \n",
      "1 1 \n"
     ]
    }
   ],
   "source": [
    "def deret(num):\n",
    "    result = 1\n",
    "    for i in range(2, num + 1):\n",
    "        result *= i\n",
    "    return result\n",
    "\n",
    "def faktorial(n):\n",
    "    for i in range(n, 0, -1):\n",
    "        print(deret(i), end=\" \")\n",
    "        for j in range(i, 0, -1):\n",
    "            print(j, end=\" \")\n",
    "        print()\n",
    "\n",
    "n = int(input(\"n: \"))\n",
    "faktorial(n)"
   ]
  },
  {
   "cell_type": "code",
   "execution_count": 4,
   "metadata": {},
   "outputs": [
    {
     "name": "stdout",
     "output_type": "stream",
     "text": [
      "1 2 3 4 5 \n",
      "6 7 8 9 10 \n",
      "11 12 13 14 15 \n",
      "16 17 18 19 20 \n",
      "21 22 23 24 25 \n"
     ]
    }
   ],
   "source": [
    "height = int(input(\"tinggi deret: \"))\n",
    "lenght = int(input(\"lebar deret: \"))\n",
    "num = 1\n",
    "    \n",
    "for i in range(height):\n",
    "        for j in range(lenght):\n",
    "            print(num, end=\" \")\n",
    "            num += 1\n",
    "        print()"
   ]
  }
 ],
 "metadata": {
  "kernelspec": {
   "display_name": "Python 3",
   "language": "python",
   "name": "python3"
  },
  "language_info": {
   "codemirror_mode": {
    "name": "ipython",
    "version": 3
   },
   "file_extension": ".py",
   "mimetype": "text/x-python",
   "name": "python",
   "nbconvert_exporter": "python",
   "pygments_lexer": "ipython3",
   "version": "3.12.0"
  }
 },
 "nbformat": 4,
 "nbformat_minor": 2
}
